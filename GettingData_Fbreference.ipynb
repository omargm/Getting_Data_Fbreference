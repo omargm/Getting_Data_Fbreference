{
 "cells": [
  {
   "cell_type": "markdown",
   "id": "ff34a94c-2ae2-4582-be72-4c4ddce454d9",
   "metadata": {
    "tags": []
   },
   "source": [
    "Since **fbreference** website removed the option to download files. Here is a way to scrap data from their website."
   ]
  },
  {
   "cell_type": "code",
   "execution_count": 1,
   "id": "7d36ead4-a90b-411b-9b73-c3855b28856d",
   "metadata": {
    "tags": []
   },
   "outputs": [],
   "source": [
    "import requests\n",
    "import pandas as pd\n",
    "from bs4 import BeautifulSoup\n",
    "from selenium import webdriver\n",
    "from webdriver_manager.chrome import ChromeDriverManager\n",
    "from selenium.webdriver.chrome.service import Service\n",
    "import time"
   ]
  },
  {
   "cell_type": "code",
   "execution_count": 4,
   "id": "0ecb1a3a-fd7c-48db-8868-4b7dea2ab48d",
   "metadata": {
    "tags": []
   },
   "outputs": [],
   "source": [
    "# Set up the ChromeDriver using WebDriver Manager\n",
    "chrome_driver_path = ChromeDriverManager().install()\n",
    "\n",
    "# Set up the Selenium webdriver with options\n",
    "options = webdriver.ChromeOptions()\n",
    "options.binary_location = r\"C:\\Archivos de programa\\Google\\Chrome\\Application\\chrome.exe\"\n",
    "\n",
    "# Set up the Selenium webdriver\n",
    "service = Service(chrome_driver_path)\n",
    "driver = webdriver.Chrome(service=service, options=options)\n",
    "\n",
    "# Open the URL\n",
    "url = \"https://fbref.com/es/comps/31/2022-2023/stats/Estadisticas-2022-2023-Liga-MX\"\n",
    "driver.get(url)\n",
    "driver.execute_script(\"window.scrollTo(1, 10000)\")\n",
    "time.sleep(2)\n",
    "html = driver.page_source\n",
    "\n",
    "with open(\"data/df.html\", \"w+\", encoding=\"utf-8\") as f:\n",
    "    f.write(html)\n",
    "\n",
    "# Close the webdriver when done\n",
    "driver.quit()"
   ]
  },
  {
   "cell_type": "code",
   "execution_count": 23,
   "id": "14fb04bf-21b5-4162-8c35-b64432820168",
   "metadata": {
    "tags": []
   },
   "outputs": [],
   "source": [
    "# Scrap data\n",
    "with open(\"data/df.html\", encoding=\"utf-8\") as f:\n",
    "    page=f.read()\n",
    "    \n",
    "    soup= BeautifulSoup(page, \"html.parser\")\n",
    "    soup.find(\"tr\", class_=\"thead\").decompose()\n",
    "    stats_standard_table = soup.find(id=\"stats_standard\")\n",
    "    stats_standard = pd.read_html(str(stats_standard_table))[0]\n",
    "    stats_standard.columns = stats_standard.columns.droplevel()"
   ]
  },
  {
   "cell_type": "code",
   "execution_count": 31,
   "id": "3cfd6caa-a4b2-48a3-aebe-400b9946dce5",
   "metadata": {
    "tags": []
   },
   "outputs": [],
   "source": [
    "# Save data as csv file\n",
    "stats_standard.to_csv(\"stats_standard.csv\", index=False, encoding=\"cp1252\")"
   ]
  },
  {
   "cell_type": "code",
   "execution_count": 4,
   "id": "7feb5c81-476d-401b-ab78-2cf3ac1c6da8",
   "metadata": {
    "tags": []
   },
   "outputs": [],
   "source": [
    "# Set up the ChromeDriver using WebDriver Manager\n",
    "chrome_driver_path = ChromeDriverManager().install()\n",
    "\n",
    "# Set up the Selenium webdriver with options\n",
    "options = webdriver.ChromeOptions()\n",
    "options.binary_location = r\"C:\\Archivos de programa\\Google\\Chrome\\Application\\chrome.exe\"\n",
    "\n",
    "# Set up the Selenium webdriver\n",
    "service = Service(chrome_driver_path)\n",
    "driver = webdriver.Chrome(service=service, options=options)\n",
    "\n",
    "# Open the URL\n",
    "url = \"https://fbref.com/es/comps/31/2022-2023/passing/Estadisticas-2022-2023-Liga-MX\"\n",
    "driver.get(url)\n",
    "driver.execute_script(\"window.scrollTo(1, 10000)\")\n",
    "time.sleep(2)\n",
    "html = driver.page_source\n",
    "\n",
    "with open(\"data/df2.html\", \"w+\", encoding=\"utf-8\") as f:\n",
    "    f.write(html)\n",
    "\n",
    "# Close the webdriver when done\n",
    "driver.quit()"
   ]
  },
  {
   "cell_type": "code",
   "execution_count": 5,
   "id": "7f6e8190-d866-4457-aac0-6a92221a67ec",
   "metadata": {
    "tags": []
   },
   "outputs": [],
   "source": [
    "# Scrap data\n",
    "with open(\"data/df2.html\", encoding=\"utf-8\") as f:\n",
    "    page=f.read()\n",
    "    \n",
    "    soup= BeautifulSoup(page, \"html.parser\")\n",
    "    soup.find(\"tr\", class_=\"thead\").decompose()\n",
    "    stats_passing_table = soup.find(id=\"stats_passing\")\n",
    "    stats_passing = pd.read_html(str(stats_passing_table))[0]\n",
    "    stats_passing.columns = stats_passing.columns.droplevel()"
   ]
  },
  {
   "cell_type": "code",
   "execution_count": 6,
   "id": "65b2b5ff-11a2-42e9-b49d-d36166585fb9",
   "metadata": {
    "tags": []
   },
   "outputs": [],
   "source": [
    "# Save data as csv file\n",
    "stats_passing.to_csv(\"stats_passing.csv\", index=False, encoding=\"cp1252\")"
   ]
  },
  {
   "cell_type": "code",
   "execution_count": 2,
   "id": "33b7f248-f224-4a42-8639-bad8836dbea4",
   "metadata": {
    "tags": []
   },
   "outputs": [],
   "source": [
    "# Set up the ChromeDriver using WebDriver Manager\n",
    "chrome_driver_path = ChromeDriverManager().install()\n",
    "\n",
    "# Set up the Selenium webdriver with options\n",
    "options = webdriver.ChromeOptions()\n",
    "options.binary_location = r\"C:\\Archivos de programa\\Google\\Chrome\\Application\\chrome.exe\"\n",
    "\n",
    "# Set up the Selenium webdriver\n",
    "service = Service(chrome_driver_path)\n",
    "driver = webdriver.Chrome(service=service, options=options)\n",
    "\n",
    "# Open the URL\n",
    "url = \"https://fbref.com/es/comps/31/2022-2023/passing_types/Estadisticas-2022-2023-Liga-MX\"\n",
    "driver.get(url)\n",
    "driver.execute_script(\"window.scrollTo(1, 10000)\")\n",
    "time.sleep(2)\n",
    "html = driver.page_source\n",
    "\n",
    "with open(\"data/df3.html\", \"w+\", encoding=\"utf-8\") as f:\n",
    "    f.write(html)\n",
    "\n",
    "# Close the webdriver when done\n",
    "driver.quit()"
   ]
  },
  {
   "cell_type": "code",
   "execution_count": 5,
   "id": "aa6ac495-8cbb-460c-b7c5-eee4533b29af",
   "metadata": {
    "tags": []
   },
   "outputs": [],
   "source": [
    "# Scrap data\n",
    "with open(\"data/df3.html\", encoding=\"utf-8\") as f:\n",
    "    page=f.read()\n",
    "    \n",
    "    soup= BeautifulSoup(page, \"html.parser\")\n",
    "    soup.find(\"tr\", class_=\"thead\").decompose()\n",
    "    stats_passing_types_table = soup.find(id=\"stats_passing_types\")\n",
    "    stats_passing_types = pd.read_html(str(stats_passing_types_table))[0]\n",
    "    stats_passing_types.columns = stats_passing_types.columns.droplevel()"
   ]
  },
  {
   "cell_type": "code",
   "execution_count": 6,
   "id": "8cf19ac2-2f42-4338-973a-24221f0a0276",
   "metadata": {
    "tags": []
   },
   "outputs": [],
   "source": [
    "# Save data as csv file\n",
    "stats_passing_types.to_csv(\"stats_passing_types.csv\", index=False, encoding=\"cp1252\")"
   ]
  },
  {
   "cell_type": "code",
   "execution_count": null,
   "id": "7a7b9822-524a-42a6-8cf7-aed77c334771",
   "metadata": {},
   "outputs": [],
   "source": []
  }
 ],
 "metadata": {
  "kernelspec": {
   "display_name": "Python 3 (ipykernel)",
   "language": "python",
   "name": "python3"
  },
  "language_info": {
   "codemirror_mode": {
    "name": "ipython",
    "version": 3
   },
   "file_extension": ".py",
   "mimetype": "text/x-python",
   "name": "python",
   "nbconvert_exporter": "python",
   "pygments_lexer": "ipython3",
   "version": "3.11.4"
  }
 },
 "nbformat": 4,
 "nbformat_minor": 5
}
